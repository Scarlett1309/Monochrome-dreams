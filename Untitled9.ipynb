{
 "cells": [
  {
   "cell_type": "code",
   "execution_count": 46,
   "id": "ddb0c442",
   "metadata": {},
   "outputs": [],
   "source": [
    "import numpy as np #for linear algebra\n",
    "import pandas as pd #for data processing\n",
    "import keras\n",
    "import csv\n",
    "from keras.models import Sequential\n",
    "from keras.layers import Dense, Dropout, Flatten\n",
    "from keras.layers import Conv2D, MaxPool2D, BatchNormalization\n",
    "from keras.preprocessing import image\n",
    "from tqdm import tqdm\n",
    "from tensorflow.keras import layers\n",
    "from sklearn.metrics import hamming_loss\n",
    "from sklearn.metrics import f1_score, accuracy_score,confusion_matrix, classification_report\n",
    "import seaborn as sn\n",
    "import matplotlib.pyplot as plt"
   ]
  },
  {
   "cell_type": "code",
   "execution_count": 47,
   "id": "b010e673",
   "metadata": {},
   "outputs": [],
   "source": [
    "train_samples=pd.read_csv(\"train.txt\", sep=',', header=None, names=[\"Data\", \"Label\"])\n",
    "validation_samples=pd.read_csv(\"validation.txt\", header=None, sep=',', names=[\"Data\", \"Label\"])\n",
    "test_samples=pd.read_csv(\"test.txt\", header=None)\n",
    "sub_sample=pd.read_csv(\"sample_submission.txt\")\n",
    "test_data = np.array(test_samples.iloc[:, 0])\n",
    "train_data=np.array(train_samples.iloc[:, 0])\n",
    "train_label=np.array(train_samples.iloc[:, 1])\n",
    "validation_datas=np.array(validation_samples.iloc[:, 0])\n",
    "validation_label=np.array(validation_samples.iloc[:, 1])"
   ]
  },
  {
   "cell_type": "code",
   "execution_count": 48,
   "id": "7870ba89",
   "metadata": {},
   "outputs": [
    {
     "data": {
      "text/html": [
       "<div>\n",
       "<style scoped>\n",
       "    .dataframe tbody tr th:only-of-type {\n",
       "        vertical-align: middle;\n",
       "    }\n",
       "\n",
       "    .dataframe tbody tr th {\n",
       "        vertical-align: top;\n",
       "    }\n",
       "\n",
       "    .dataframe thead th {\n",
       "        text-align: right;\n",
       "    }\n",
       "</style>\n",
       "<table border=\"1\" class=\"dataframe\">\n",
       "  <thead>\n",
       "    <tr style=\"text-align: right;\">\n",
       "      <th></th>\n",
       "      <th>Data</th>\n",
       "      <th>Label</th>\n",
       "    </tr>\n",
       "  </thead>\n",
       "  <tbody>\n",
       "    <tr>\n",
       "      <th>0</th>\n",
       "      <td>000000.png</td>\n",
       "      <td>6</td>\n",
       "    </tr>\n",
       "    <tr>\n",
       "      <th>1</th>\n",
       "      <td>000001.png</td>\n",
       "      <td>0</td>\n",
       "    </tr>\n",
       "    <tr>\n",
       "      <th>2</th>\n",
       "      <td>000002.png</td>\n",
       "      <td>0</td>\n",
       "    </tr>\n",
       "    <tr>\n",
       "      <th>3</th>\n",
       "      <td>000003.png</td>\n",
       "      <td>5</td>\n",
       "    </tr>\n",
       "    <tr>\n",
       "      <th>4</th>\n",
       "      <td>000004.png</td>\n",
       "      <td>8</td>\n",
       "    </tr>\n",
       "    <tr>\n",
       "      <th>...</th>\n",
       "      <td>...</td>\n",
       "      <td>...</td>\n",
       "    </tr>\n",
       "    <tr>\n",
       "      <th>29996</th>\n",
       "      <td>029996.png</td>\n",
       "      <td>0</td>\n",
       "    </tr>\n",
       "    <tr>\n",
       "      <th>29997</th>\n",
       "      <td>029997.png</td>\n",
       "      <td>3</td>\n",
       "    </tr>\n",
       "    <tr>\n",
       "      <th>29998</th>\n",
       "      <td>029998.png</td>\n",
       "      <td>0</td>\n",
       "    </tr>\n",
       "    <tr>\n",
       "      <th>29999</th>\n",
       "      <td>029999.png</td>\n",
       "      <td>5</td>\n",
       "    </tr>\n",
       "    <tr>\n",
       "      <th>30000</th>\n",
       "      <td>030000.png</td>\n",
       "      <td>0</td>\n",
       "    </tr>\n",
       "  </tbody>\n",
       "</table>\n",
       "<p>30001 rows × 2 columns</p>\n",
       "</div>"
      ],
      "text/plain": [
       "             Data  Label\n",
       "0      000000.png      6\n",
       "1      000001.png      0\n",
       "2      000002.png      0\n",
       "3      000003.png      5\n",
       "4      000004.png      8\n",
       "...           ...    ...\n",
       "29996  029996.png      0\n",
       "29997  029997.png      3\n",
       "29998  029998.png      0\n",
       "29999  029999.png      5\n",
       "30000  030000.png      0\n",
       "\n",
       "[30001 rows x 2 columns]"
      ]
     },
     "execution_count": 48,
     "metadata": {},
     "output_type": "execute_result"
    }
   ],
   "source": [
    "train_samples"
   ]
  },
  {
   "cell_type": "code",
   "execution_count": 49,
   "id": "70268b81",
   "metadata": {},
   "outputs": [
    {
     "name": "stderr",
     "output_type": "stream",
     "text": [
      "100%|████████████████████████████████████████████████████████████████████████████| 5000/5000 [00:02<00:00, 1681.43it/s]\n"
     ]
    }
   ],
   "source": [
    "test_image = []\n",
    "for i in tqdm(range(test_data.shape[0])):\n",
    "    img = image.load_img('Images/test/' + test_data[i], target_size=(28, 28, 3))\n",
    "    img = image.img_to_array(img)\n",
    "    img = img.astype('float32')\n",
    "    img = img/255.0\n",
    "    test_image.append(img)\n",
    "X_test = np.array(test_image)\n",
    "\n"
   ]
  },
  {
   "cell_type": "code",
   "execution_count": 50,
   "id": "608cecb3",
   "metadata": {},
   "outputs": [
    {
     "name": "stderr",
     "output_type": "stream",
     "text": [
      "100%|██████████████████████████████████████████████████████████████████████████| 30001/30001 [00:16<00:00, 1850.00it/s]\n"
     ]
    }
   ],
   "source": [
    "train_image = []\n",
    "for i in tqdm(range(train_data.shape[0])):\n",
    "    img = image.load_img('Images/train/' + train_data[i], target_size=(28, 28, 3))\n",
    "    img = image.img_to_array(img)\n",
    "    img=img/255.0\n",
    "    img = img.astype('float32')\n",
    "    train_image.append(img)\n",
    "X_train=np.array(train_image)"
   ]
  },
  {
   "cell_type": "code",
   "execution_count": 51,
   "id": "760dfd10",
   "metadata": {},
   "outputs": [
    {
     "name": "stderr",
     "output_type": "stream",
     "text": [
      "100%|████████████████████████████████████████████████████████████████████████████| 5000/5000 [00:02<00:00, 2096.86it/s]\n"
     ]
    }
   ],
   "source": [
    "validation_image = []\n",
    "for i in tqdm(range(validation_datas.shape[0])):\n",
    "    img = image.load_img('Images/validation/' + validation_datas[i], target_size=(28, 28, 3))\n",
    "    img = image.img_to_array(img)\n",
    "    img = img.astype('float32')\n",
    "    img = img/255.0\n",
    "    validation_image.append(img)\n",
    "X_validation=np.array(validation_image)"
   ]
  },
  {
   "cell_type": "code",
   "execution_count": 52,
   "id": "13ff47fe",
   "metadata": {},
   "outputs": [],
   "source": [
    "train_label1 = pd.get_dummies(train_label).values\n",
    "validation_label1 = pd.get_dummies(validation_label).values"
   ]
  },
  {
   "cell_type": "code",
   "execution_count": 53,
   "id": "129eeebc",
   "metadata": {},
   "outputs": [
    {
     "data": {
      "text/plain": [
       "(5000,)"
      ]
     },
     "execution_count": 53,
     "metadata": {},
     "output_type": "execute_result"
    }
   ],
   "source": [
    "validation_label.shape"
   ]
  },
  {
   "cell_type": "code",
   "execution_count": 54,
   "id": "7cdab11c",
   "metadata": {},
   "outputs": [
    {
     "data": {
      "text/plain": [
       "(30001, 28, 28, 3)"
      ]
     },
     "execution_count": 54,
     "metadata": {},
     "output_type": "execute_result"
    }
   ],
   "source": [
    "X_train.shape"
   ]
  },
  {
   "cell_type": "code",
   "execution_count": 55,
   "id": "8b396617",
   "metadata": {},
   "outputs": [],
   "source": [
    "model= Sequential()\n",
    "model.add(Conv2D(kernel_size=(3,3), padding ='same', filters=32, activation='tanh', input_shape=(28,28,3)))\n",
    "model.add(Conv2D(filters=30,kernel_size = (3,3),activation='tanh'))\n",
    "model.add(MaxPool2D(2,2))\n",
    "model.add(Conv2D(filters=30,kernel_size = (3,3),activation='tanh'))\n",
    "model.add(MaxPool2D(2,2))\n",
    "model.add(Conv2D(filters=30,kernel_size = (3,3),activation='tanh'))\n",
    "\n",
    "model.add(Flatten())\n",
    "\n",
    "model.add(Dense(20,activation='relu'))\n",
    "model.add(Dense(15,activation='relu'))\n",
    "model.add(Dense(9,activation = 'softmax'))\n",
    "    \n",
    "model.compile(\n",
    "              loss='categorical_crossentropy', \n",
    "              metrics=['accuracy'],\n",
    "              optimizer='adam'\n",
    "             )"
   ]
  },
  {
   "cell_type": "code",
   "execution_count": 56,
   "id": "3529ed64",
   "metadata": {},
   "outputs": [
    {
     "name": "stdout",
     "output_type": "stream",
     "text": [
      "Epoch 1/20\n",
      "235/235 [==============================] - 33s 131ms/step - loss: 1.8491 - accuracy: 0.3172\n",
      "Epoch 2/20\n",
      "235/235 [==============================] - 30s 128ms/step - loss: 0.8810 - accuracy: 0.6952\n",
      "Epoch 3/20\n",
      "235/235 [==============================] - 30s 127ms/step - loss: 0.7161 - accuracy: 0.7488\n",
      "Epoch 4/20\n",
      "235/235 [==============================] - 29s 123ms/step - loss: 0.6294 - accuracy: 0.7829\n",
      "Epoch 5/20\n",
      "235/235 [==============================] - 29s 125ms/step - loss: 0.5749 - accuracy: 0.7995\n",
      "Epoch 6/20\n",
      "235/235 [==============================] - 29s 123ms/step - loss: 0.5292 - accuracy: 0.8155\n",
      "Epoch 7/20\n",
      "235/235 [==============================] - 29s 122ms/step - loss: 0.4950 - accuracy: 0.8238\n",
      "Epoch 8/20\n",
      "235/235 [==============================] - 29s 126ms/step - loss: 0.4765 - accuracy: 0.8326\n",
      "Epoch 9/20\n",
      "235/235 [==============================] - 29s 125ms/step - loss: 0.4399 - accuracy: 0.8440\n",
      "Epoch 10/20\n",
      "235/235 [==============================] - 30s 127ms/step - loss: 0.4349 - accuracy: 0.8480\n",
      "Epoch 11/20\n",
      "235/235 [==============================] - 29s 125ms/step - loss: 0.4044 - accuracy: 0.8570\n",
      "Epoch 12/20\n",
      "235/235 [==============================] - 29s 123ms/step - loss: 0.3871 - accuracy: 0.8617\n",
      "Epoch 13/20\n",
      "235/235 [==============================] - 29s 122ms/step - loss: 0.3806 - accuracy: 0.8663\n",
      "Epoch 14/20\n",
      "235/235 [==============================] - 30s 128ms/step - loss: 0.3538 - accuracy: 0.8746\n",
      "Epoch 15/20\n",
      "235/235 [==============================] - 29s 124ms/step - loss: 0.3486 - accuracy: 0.8755\n",
      "Epoch 16/20\n",
      "235/235 [==============================] - 29s 124ms/step - loss: 0.3195 - accuracy: 0.8869\n",
      "Epoch 17/20\n",
      "235/235 [==============================] - 30s 129ms/step - loss: 0.3121 - accuracy: 0.8874\n",
      "Epoch 18/20\n",
      "235/235 [==============================] - 29s 124ms/step - loss: 0.3031 - accuracy: 0.8935\n",
      "Epoch 19/20\n",
      "235/235 [==============================] - 30s 126ms/step - loss: 0.2954 - accuracy: 0.8973\n",
      "Epoch 20/20\n",
      "235/235 [==============================] - 32s 138ms/step - loss: 0.2704 - accuracy: 0.9044\n"
     ]
    },
    {
     "data": {
      "text/plain": [
       "<tensorflow.python.keras.callbacks.History at 0x1a8908b5430>"
      ]
     },
     "execution_count": 56,
     "metadata": {},
     "output_type": "execute_result"
    }
   ],
   "source": [
    " model.fit(X_train,train_label1, batch_size=128, epochs=20)"
   ]
  },
  {
   "cell_type": "code",
   "execution_count": 57,
   "id": "25920095",
   "metadata": {},
   "outputs": [
    {
     "name": "stdout",
     "output_type": "stream",
     "text": [
      "Test loss :  0.5632503628730774\n",
      "Test accuracy:  0.8095999956130981\n"
     ]
    }
   ],
   "source": [
    "score = model.evaluate(X_validation, validation_label1, verbose=0)\n",
    "print('Test loss : ', score[0])\n",
    "print('Test accuracy: ', score[1])"
   ]
  },
  {
   "cell_type": "code",
   "execution_count": 58,
   "id": "e6c234d8",
   "metadata": {},
   "outputs": [],
   "source": [
    "validation_predict = model.predict(X_validation)\n",
    "validation_predict = np.argmax(validation_predict, axis=1)"
   ]
  },
  {
   "cell_type": "code",
   "execution_count": 59,
   "id": "81d1b2a2",
   "metadata": {},
   "outputs": [
    {
     "data": {
      "text/plain": [
       "array([8, 1, 5, ..., 7, 2, 8], dtype=int64)"
      ]
     },
     "execution_count": 59,
     "metadata": {},
     "output_type": "execute_result"
    }
   ],
   "source": [
    "validation_predict"
   ]
  },
  {
   "cell_type": "code",
   "execution_count": 60,
   "id": "da89e83d",
   "metadata": {},
   "outputs": [
    {
     "name": "stdout",
     "output_type": "stream",
     "text": [
      "Accuracy score : 0.8096\n"
     ]
    }
   ],
   "source": [
    "print(f\"Accuracy score : {accuracy_score(validation_label, validation_predict)}\")\n"
   ]
  },
  {
   "cell_type": "code",
   "execution_count": null,
   "id": "157334e6",
   "metadata": {},
   "outputs": [],
   "source": []
  },
  {
   "cell_type": "code",
   "execution_count": 61,
   "id": "250be0a0",
   "metadata": {},
   "outputs": [
    {
     "data": {
      "image/png": "[encoded data removed]",
      "text/plain": [
       "<Figure size 432x288 with 2 Axes>"
      ]
     },
     "metadata": {
      "needs_background": "light"
     },
     "output_type": "display_data"
    }
   ],
   "source": [
    "#Confusion matrix\n",
    "\n",
    "result = confusion_matrix(validation_label, validation_predict)\n",
    "sn.heatmap(result, annot=True)\n",
    "plt.show()"
   ]
  },
  {
   "cell_type": "code",
   "execution_count": 62,
   "id": "71c78d23",
   "metadata": {},
   "outputs": [
    {
     "name": "stdout",
     "output_type": "stream",
     "text": [
      "Classification report : \n",
      "               precision    recall  f1-score   support\n",
      "\n",
      "           0       0.79      0.74      0.77       570\n",
      "           1       0.84      0.87      0.85       527\n",
      "           2       0.78      0.82      0.80       533\n",
      "           3       0.78      0.81      0.79       578\n",
      "           4       0.73      0.75      0.74       554\n",
      "           5       0.86      0.79      0.82       561\n",
      "           6       0.87      0.89      0.88       580\n",
      "           7       0.76      0.77      0.77       520\n",
      "           8       0.87      0.84      0.86       577\n",
      "\n",
      "    accuracy                           0.81      5000\n",
      "   macro avg       0.81      0.81      0.81      5000\n",
      "weighted avg       0.81      0.81      0.81      5000\n",
      "\n"
     ]
    }
   ],
   "source": [
    "#Classification report\n",
    "print(\"Classification report : \\n\", classification_report(validation_label, validation_predict))\n"
   ]
  },
  {
   "cell_type": "code",
   "execution_count": 63,
   "id": "abaec7a7",
   "metadata": {},
   "outputs": [],
   "source": [
    "prediction = model.predict(X_test)\n",
    "prediction = np.argmax(prediction, axis=1)"
   ]
  },
  {
   "cell_type": "code",
   "execution_count": 64,
   "id": "9e0f5413",
   "metadata": {},
   "outputs": [
    {
     "data": {
      "text/plain": [
       "array([5, 0, 4, ..., 2, 0, 0], dtype=int64)"
      ]
     },
     "execution_count": 64,
     "metadata": {},
     "output_type": "execute_result"
    }
   ],
   "source": [
    "prediction"
   ]
  },
  {
   "cell_type": "code",
   "execution_count": 65,
   "id": "617650f5",
   "metadata": {},
   "outputs": [],
   "source": [
    "with open('submission.csv', 'w', newline='') as myfile:\n",
    "    wr = csv.writer(myfile)\n",
    "    wr.writerow([\"id\", \"label\"])\n",
    "    for i in range(0, len(test_data)):\n",
    "        wr.writerow([test_data[i], prediction[i]])"
   ]
  },
  {
   "cell_type": "code",
   "execution_count": 66,
   "id": "04097f03",
   "metadata": {},
   "outputs": [
    {
     "data": {
      "text/plain": [
       "(30001, 28, 28, 3)"
      ]
     },
     "execution_count": 66,
     "metadata": {},
     "output_type": "execute_result"
    }
   ],
   "source": [
    "X_train.shape"
   ]
  },
  {
   "cell_type": "code",
   "execution_count": 67,
   "id": "d79b995a",
   "metadata": {
    "scrolled": true
   },
   "outputs": [],
   "source": [
    "nsamples, nx, ny, nz = X_train.shape\n",
    "x = X_train.reshape((nsamples,nx*ny*nz))"
   ]
  },
  {
   "cell_type": "code",
   "execution_count": 68,
   "id": "2736aa76",
   "metadata": {},
   "outputs": [],
   "source": [
    "nsamples, nx, ny, nz = X_validation.shape\n",
    "xv = X_validation.reshape((nsamples,nx*ny*nz))"
   ]
  },
  {
   "cell_type": "code",
   "execution_count": 69,
   "id": "3f2e7f36",
   "metadata": {},
   "outputs": [
    {
     "data": {
      "text/plain": [
       "(30001, 2352)"
      ]
     },
     "execution_count": 69,
     "metadata": {},
     "output_type": "execute_result"
    }
   ],
   "source": [
    "x.shape"
   ]
  },
  {
   "cell_type": "code",
   "execution_count": 82,
   "id": "f92b2e3f",
   "metadata": {},
   "outputs": [],
   "source": [
    "from sklearn.tree import DecisionTreeClassifier\n",
    "\n",
    "dtree_model = DecisionTreeClassifier().fit(x, train_label)\n",
    "val_pred = dtree_model.predict(xv)"
   ]
  },
  {
   "cell_type": "code",
   "execution_count": 83,
   "id": "e0995515",
   "metadata": {},
   "outputs": [
    {
     "data": {
      "text/plain": [
       "array([8, 1, 5, ..., 6, 2, 8], dtype=int64)"
      ]
     },
     "execution_count": 83,
     "metadata": {},
     "output_type": "execute_result"
    }
   ],
   "source": [
    "val_pred"
   ]
  },
  {
   "cell_type": "code",
   "execution_count": 84,
   "id": "320314ef",
   "metadata": {},
   "outputs": [
    {
     "name": "stdout",
     "output_type": "stream",
     "text": [
      "Accuracy score : 0.3654\n"
     ]
    }
   ],
   "source": [
    "print(f\"Accuracy score : {accuracy_score(validation_label, val_pred)}\")"
   ]
  },
  {
   "cell_type": "code",
   "execution_count": 85,
   "id": "0cc8062a",
   "metadata": {},
   "outputs": [
    {
     "name": "stdout",
     "output_type": "stream",
     "text": [
      "Classification report : \n",
      "               precision    recall  f1-score   support\n",
      "\n",
      "           0       0.27      0.25      0.26       570\n",
      "           1       0.38      0.39      0.38       527\n",
      "           2       0.32      0.33      0.32       533\n",
      "           3       0.37      0.35      0.36       578\n",
      "           4       0.30      0.30      0.30       554\n",
      "           5       0.45      0.45      0.45       561\n",
      "           6       0.44      0.43      0.43       580\n",
      "           7       0.31      0.33      0.32       520\n",
      "           8       0.45      0.46      0.45       577\n",
      "\n",
      "    accuracy                           0.37      5000\n",
      "   macro avg       0.36      0.36      0.36      5000\n",
      "weighted avg       0.37      0.37      0.37      5000\n",
      "\n"
     ]
    }
   ],
   "source": [
    "print(\"Classification report : \\n\", classification_report(validation_label, val_pred))\n"
   ]
  },
  {
   "cell_type": "code",
   "execution_count": 73,
   "id": "14f16d50",
   "metadata": {},
   "outputs": [
    {
     "data": {
      "text/plain": [
       "SGDClassifier(random_state=42)"
      ]
     },
     "execution_count": 73,
     "metadata": {},
     "output_type": "execute_result"
    }
   ],
   "source": [
    "from sklearn.linear_model import SGDClassifier\n",
    "\n",
    "sgd_clf = SGDClassifier(random_state=42, max_iter=1000, tol=1e-3)\n",
    "sgd_clf.fit(x, train_label)"
   ]
  },
  {
   "cell_type": "code",
   "execution_count": 74,
   "id": "a45c2bac",
   "metadata": {},
   "outputs": [],
   "source": [
    "v_pred = sgd_clf.predict(xv)\n"
   ]
  },
  {
   "cell_type": "code",
   "execution_count": 75,
   "id": "4886d06c",
   "metadata": {},
   "outputs": [
    {
     "name": "stdout",
     "output_type": "stream",
     "text": [
      "Accuracy score : 0.55\n"
     ]
    }
   ],
   "source": [
    "print(f\"Accuracy score : {accuracy_score(validation_label, v_pred)}\")"
   ]
  },
  {
   "cell_type": "code",
   "execution_count": 76,
   "id": "d044dd17",
   "metadata": {},
   "outputs": [
    {
     "name": "stdout",
     "output_type": "stream",
     "text": [
      "Classification report : \n",
      "               precision    recall  f1-score   support\n",
      "\n",
      "           0       0.40      0.55      0.46       570\n",
      "           1       0.50      0.66      0.57       527\n",
      "           2       0.73      0.44      0.55       533\n",
      "           3       0.53      0.70      0.60       578\n",
      "           4       0.52      0.42      0.47       554\n",
      "           5       0.80      0.45      0.58       561\n",
      "           6       0.60      0.59      0.59       580\n",
      "           7       0.65      0.44      0.52       520\n",
      "           8       0.53      0.68      0.60       577\n",
      "\n",
      "    accuracy                           0.55      5000\n",
      "   macro avg       0.58      0.55      0.55      5000\n",
      "weighted avg       0.58      0.55      0.55      5000\n",
      "\n"
     ]
    }
   ],
   "source": [
    "print(\"Classification report : \\n\", classification_report(validation_label, v_pred))\n"
   ]
  },
  {
   "cell_type": "code",
   "execution_count": 79,
   "id": "d771ca4c",
   "metadata": {},
   "outputs": [],
   "source": [
    "from sklearn.ensemble import RandomForestClassifier\n",
    "rf_model = RandomForestClassifier(n_estimators = 100)\n",
    "rf_model.fit(x, train_label)\n",
    "vp = rf_model.predict(xv)"
   ]
  },
  {
   "cell_type": "code",
   "execution_count": 80,
   "id": "9e200641",
   "metadata": {},
   "outputs": [
    {
     "name": "stdout",
     "output_type": "stream",
     "text": [
      "Accuracy score : 0.6208\n"
     ]
    }
   ],
   "source": [
    "print(f\"Accuracy score : {accuracy_score(validation_label, vp)}\")"
   ]
  },
  {
   "cell_type": "code",
   "execution_count": 86,
   "id": "0393c4b8",
   "metadata": {},
   "outputs": [
    {
     "name": "stdout",
     "output_type": "stream",
     "text": [
      "Classification report : \n",
      "               precision    recall  f1-score   support\n",
      "\n",
      "           0       0.54      0.49      0.51       570\n",
      "           1       0.63      0.69      0.66       527\n",
      "           2       0.60      0.57      0.58       533\n",
      "           3       0.65      0.61      0.63       578\n",
      "           4       0.56      0.57      0.56       554\n",
      "           5       0.70      0.67      0.68       561\n",
      "           6       0.66      0.72      0.69       580\n",
      "           7       0.55      0.54      0.55       520\n",
      "           8       0.68      0.73      0.70       577\n",
      "\n",
      "    accuracy                           0.62      5000\n",
      "   macro avg       0.62      0.62      0.62      5000\n",
      "weighted avg       0.62      0.62      0.62      5000\n",
      "\n"
     ]
    }
   ],
   "source": [
    "print(\"Classification report : \\n\", classification_report(validation_label, vp))\n"
   ]
  },
  {
   "cell_type": "markdown",
   "id": "8268652c",
   "metadata": {},
   "source": [
    "|     | Precision | Recall | f1 | Accuracy | \n",
    "| --- | --- | --- | --- | --- |\n",
    "| CNN | 0.81 | 0.81  | 0.81  | 0.8096\n",
    "| --- | --- | --- | --- | --- |\n",
    "| Decision Tree  | 0.36 | 0.36 | 0.36 | 0.36 \n",
    "| --- | --- | --- | --- | --- |\n",
    "|Random Forest|0.62|0.62|0.62|0.6208\n",
    "| --- | --- | --- | --- | --- |\n",
    "|SGD| 0.58 | 0.55 | 0.55 | 0.55"
   ]
  },
  {
   "cell_type": "code",
   "execution_count": null,
   "id": "3e406b53",
   "metadata": {},
   "outputs": [],
   "source": []
  }
 ],
 "metadata": {
  "kernelspec": {
   "display_name": "Python 3",
   "language": "python",
   "name": "python3"
  },
  "language_info": {
   "codemirror_mode": {
    "name": "ipython",
    "version": 3
   },
   "file_extension": ".py",
   "mimetype": "text/x-python",
   "name": "python",
   "nbconvert_exporter": "python",
   "pygments_lexer": "ipython3",
   "version": "3.8.5"
  }
 },
 "nbformat": 4,
 "nbformat_minor": 5
}
